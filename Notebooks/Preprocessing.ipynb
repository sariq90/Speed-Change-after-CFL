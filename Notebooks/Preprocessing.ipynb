{
 "cells": [
  {
   "cell_type": "code",
   "execution_count": 1,
   "metadata": {},
   "outputs": [],
   "source": [
    "import pandas as pd\n",
    "pd.options.mode.chained_assignment = None\n",
    "import matplotlib.pyplot as plt\n",
    "import numpy as np\n",
    "from scipy import signal\n",
    "#from ipynb.fs.full.ToolBox import connect_to_db"
   ]
  },
  {
   "cell_type": "code",
   "execution_count": null,
   "metadata": {},
   "outputs": [],
   "source": [
    "engine = connect_to_db()"
   ]
  },
  {
   "cell_type": "code",
   "execution_count": 2,
   "metadata": {},
   "outputs": [],
   "source": [
    "# Returns a dataframe of the longest modec (flight level) == cfl (cleared flight level) plateau, filters out null values\n",
    "def isolate_plateau(ifpsid):\n",
    "    df = pd.read_sql_query(\"\"\"SELECT instant,tas,plateau_cfl,cflok FROM sbx1.<table> WHERE ifpsid = '{ii}'\"\"\".format(ii=ifpsid),engine)\n",
    "    df = df[df.tas.notna() & df.cflok == 1]\n",
    "    if df.empty:\n",
    "        return None\n",
    "    df = df.loc[df.plateau_cfl == df.groupby('plateau_cfl').instant.apply(np.ptp).idxmax()]\n",
    "    return df\n",
    "\n",
    "# Applies a median filter to tas (true air speed) and picks out every nth value\n",
    "def medfilt(df,ks=5):\n",
    "    return signal.medfilt(df.tas,kernel_size=ks)[2::5]"
   ]
  },
  {
   "cell_type": "code",
   "execution_count": null,
   "metadata": {},
   "outputs": [],
   "source": [
    "df_ifpsid = pd.read_sql_query(\"\"\" SELECT UNIQUE ifpsid FROM sbx1.<table>\"\"\" , engine)"
   ]
  },
  {
   "cell_type": "code",
   "execution_count": null,
   "metadata": {},
   "outputs": [],
   "source": [
    "df_ifpsid.head()"
   ]
  },
  {
   "cell_type": "code",
   "execution_count": null,
   "metadata": {},
   "outputs": [],
   "source": [
    "%%time\n",
    "## filtering of suitable ifpsid\n",
    "# Note: Will not work without database access. Use df_ifpsid_suitable.pickle for further processing.\n",
    "d_list = []\n",
    "for index, row in df_ifpsid.iterrows():\n",
    "    df = pd.read_sql_query(\"\"\"SELECT instant,tas,plateau_cfl,cflok FROM sbx1.<table> WHERE ifpsid = '{ii}'\"\"\".format(ii=row.ifpsid),engine)\n",
    "    df_iso = isolate_plateau(row.ifpsid)\n",
    "    if df_iso is None:\n",
    "        continue\n",
    "    med = medfilt(df_iso)\n",
    "    if med.size < 30: #less than approx. 10 minutes\n",
    "        continue\n",
    "    d_data_i = {'ifpsid': row.ifpsid}\n",
    "    d_list.append(d_data_i)\n",
    "df_ifpsid_suitable = pd.DataFrame.from_dict(d_list)"
   ]
  },
  {
   "cell_type": "code",
   "execution_count": 3,
   "metadata": {},
   "outputs": [],
   "source": [
    "df_ifpsid_suitable = pd.read_pickle(\"../pickles/df_ifpsid_suitable.pickle\")"
   ]
  },
  {
   "cell_type": "code",
   "execution_count": 4,
   "metadata": {},
   "outputs": [
    {
     "data": {
      "text/html": [
       "<div>\n",
       "<style scoped>\n",
       "    .dataframe tbody tr th:only-of-type {\n",
       "        vertical-align: middle;\n",
       "    }\n",
       "\n",
       "    .dataframe tbody tr th {\n",
       "        vertical-align: top;\n",
       "    }\n",
       "\n",
       "    .dataframe thead th {\n",
       "        text-align: right;\n",
       "    }\n",
       "</style>\n",
       "<table border=\"1\" class=\"dataframe\">\n",
       "  <thead>\n",
       "    <tr style=\"text-align: right;\">\n",
       "      <th></th>\n",
       "      <th>ifpsid</th>\n",
       "    </tr>\n",
       "  </thead>\n",
       "  <tbody>\n",
       "    <tr>\n",
       "      <th>65605</th>\n",
       "      <td>AA17217257</td>\n",
       "    </tr>\n",
       "    <tr>\n",
       "      <th>91290</th>\n",
       "      <td>AA15126585</td>\n",
       "    </tr>\n",
       "    <tr>\n",
       "      <th>83237</th>\n",
       "      <td>AA16302258</td>\n",
       "    </tr>\n",
       "    <tr>\n",
       "      <th>91928</th>\n",
       "      <td>AA15417655</td>\n",
       "    </tr>\n",
       "    <tr>\n",
       "      <th>73263</th>\n",
       "      <td>AA15313834</td>\n",
       "    </tr>\n",
       "    <tr>\n",
       "      <th>15646</th>\n",
       "      <td>AA16336089</td>\n",
       "    </tr>\n",
       "    <tr>\n",
       "      <th>139988</th>\n",
       "      <td>AA15194514</td>\n",
       "    </tr>\n",
       "    <tr>\n",
       "      <th>35960</th>\n",
       "      <td>AA16420459</td>\n",
       "    </tr>\n",
       "    <tr>\n",
       "      <th>174537</th>\n",
       "      <td>AA16479870</td>\n",
       "    </tr>\n",
       "    <tr>\n",
       "      <th>94907</th>\n",
       "      <td>AA15721022</td>\n",
       "    </tr>\n",
       "  </tbody>\n",
       "</table>\n",
       "</div>"
      ],
      "text/plain": [
       "            ifpsid\n",
       "65605   AA17217257\n",
       "91290   AA15126585\n",
       "83237   AA16302258\n",
       "91928   AA15417655\n",
       "73263   AA15313834\n",
       "15646   AA16336089\n",
       "139988  AA15194514\n",
       "35960   AA16420459\n",
       "174537  AA16479870\n",
       "94907   AA15721022"
      ]
     },
     "execution_count": 4,
     "metadata": {},
     "output_type": "execute_result"
    }
   ],
   "source": [
    "df_ifpsid_suitable.sample(10)"
   ]
  }
 ],
 "metadata": {
  "kernelspec": {
   "display_name": "Python 3",
   "language": "python",
   "name": "python3"
  },
  "language_info": {
   "codemirror_mode": {
    "name": "ipython",
    "version": 3
   },
   "file_extension": ".py",
   "mimetype": "text/x-python",
   "name": "python",
   "nbconvert_exporter": "python",
   "pygments_lexer": "ipython3",
   "version": "3.8.8"
  }
 },
 "nbformat": 4,
 "nbformat_minor": 4
}
